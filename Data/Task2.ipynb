{
 "cells": [
  {
   "cell_type": "code",
   "execution_count": 2,
   "id": "9e04032c-4cac-4fce-97da-c8d5ebfa276e",
   "metadata": {},
   "outputs": [],
   "source": [
    "import numpy as np\n",
    "import pandas as pd"
   ]
  },
  {
   "cell_type": "code",
   "execution_count": 14,
   "id": "ebd4d367-c7a7-43bb-a9d9-60d72bae00b1",
   "metadata": {},
   "outputs": [],
   "source": [
    "df = pd.DataFrame()\n",
    "df = pd.read_csv('detail.csv')\n",
    "df['Relative Time(h:min:s.ms)'] = pd.to_datetime(df['Relative Time(h:min:s.ms)'])\n",
    "df = df.resample('60s', on='Relative Time(h:min:s.ms)').first()\n",
    "df.to_csv(path_or_buf=\"detailDownsampled.csv\",index=False)"
   ]
  },
  {
   "cell_type": "code",
   "execution_count": 15,
   "id": "c7d104b9-adc0-418c-8800-71001f4571f1",
   "metadata": {},
   "outputs": [],
   "source": [
    "df = pd.DataFrame()\n",
    "df = pd.read_csv('detailVol.csv')\n",
    "df['Relative Time(h:min:s.ms)'] = pd.to_datetime(df['Relative Time(h:min:s.ms)'])\n",
    "df = df.resample('60s', on='Relative Time(h:min:s.ms)').first()\n",
    "df.to_csv(path_or_buf=\"detailVolDownsampled.csv\",index=False)"
   ]
  },
  {
   "cell_type": "code",
   "execution_count": 16,
   "id": "25df941b-0264-4cf1-9c82-4420af25d6f6",
   "metadata": {},
   "outputs": [],
   "source": [
    "df = pd.DataFrame()\n",
    "df = pd.read_csv('detailTemp.csv')\n",
    "df['Relative Time(h:min:s.ms)'] = pd.to_datetime(df['Relative Time(h:min:s.ms)'])\n",
    "df = df.resample('60s', on='Relative Time(h:min:s.ms)').first()\n",
    "df.to_csv(path_or_buf=\"detailTempDownsampled.csv\",index=False)"
   ]
  },
  {
   "cell_type": "code",
   "execution_count": null,
   "id": "a8a94328-22b1-4680-ab35-bf275047f58f",
   "metadata": {},
   "outputs": [],
   "source": []
  }
 ],
 "metadata": {
  "kernelspec": {
   "display_name": "Python 3",
   "language": "python",
   "name": "python3"
  },
  "language_info": {
   "codemirror_mode": {
    "name": "ipython",
    "version": 3
   },
   "file_extension": ".py",
   "mimetype": "text/x-python",
   "name": "python",
   "nbconvert_exporter": "python",
   "pygments_lexer": "ipython3",
   "version": "3.9.0"
  }
 },
 "nbformat": 4,
 "nbformat_minor": 5
}
