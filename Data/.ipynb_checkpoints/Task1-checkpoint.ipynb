{
 "cells": [
  {
   "cell_type": "code",
   "execution_count": 2,
   "id": "d285ed2b-1bdd-4bdc-bbaf-b1d4cfac68f7",
   "metadata": {},
   "outputs": [],
   "source": [
    "import os\n",
    "import pandas as pd\n",
    "cwd = os.path.abspath('') \n",
    "files = os.listdir(cwd)  "
   ]
  },
  {
   "cell_type": "code",
   "execution_count": 3,
   "id": "1a42717e-3104-45d1-b40b-a6485e56c9bc",
   "metadata": {},
   "outputs": [],
   "source": [
    "res1 = pd.DataFrame()\n",
    "res2 = pd.DataFrame()\n",
    "res3 = pd.DataFrame()\n",
    "for file in files:                         \n",
    "    if file.endswith('.xlsx'):\n",
    "        excel_file = pd.ExcelFile(file)\n",
    "        sheets = excel_file.sheet_names\n",
    "        for sheet in sheets:               \n",
    "            if(sheet.startswith('Detail_67_')):\n",
    "                df = excel_file.parse(sheet_name = sheet)\n",
    "                res1 = res1.append(df)\n",
    "            if(sheet.startswith('DetailVol_67_')):\n",
    "                df = excel_file.parse(sheet_name = sheet)\n",
    "                res2 = res2.append(df)\n",
    "            if(sheet.startswith('DetailTemp_67_')):\n",
    "                df = excel_file.parse(sheet_name = sheet)\n",
    "                res3 = res3.append(df)\n",
    "res1.to_csv('detail.csv',index=False)\n",
    "res2.to_csv('detailVol.csv',index=False)\n",
    "res3.to_csv('detailTemp.csv',index=False)"
   ]
  },
  {
   "cell_type": "code",
   "execution_count": 4,
   "id": "22a0ef06-a336-473f-8dd0-1711d1756569",
   "metadata": {},
   "outputs": [],
   "source": [
    "det_csv = pd.read_csv(\"detail.csv\",parse_dates=['Relative Time(h:min:s.ms)'], \n",
    "    index_col=['Relative Time(h:min:s.ms)'])\n",
    "min1=det_csv.resample('60S')\n",
    "df.to_csv(path_or_buf=\"detailDownsampled.csv\",index=False)"
   ]
  },
  {
   "cell_type": "code",
   "execution_count": null,
   "id": "64c342f0-9625-44df-8f52-1bdc3430f421",
   "metadata": {},
   "outputs": [],
   "source": []
  }
 ],
 "metadata": {
  "kernelspec": {
   "display_name": "Python 3",
   "language": "python",
   "name": "python3"
  },
  "language_info": {
   "codemirror_mode": {
    "name": "ipython",
    "version": 3
   },
   "file_extension": ".py",
   "mimetype": "text/x-python",
   "name": "python",
   "nbconvert_exporter": "python",
   "pygments_lexer": "ipython3",
   "version": "3.9.0"
  }
 },
 "nbformat": 4,
 "nbformat_minor": 5
}
